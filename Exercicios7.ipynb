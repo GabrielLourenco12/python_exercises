{
  "nbformat": 4,
  "nbformat_minor": 0,
  "metadata": {
    "colab": {
      "name": "Exercicios7.ipynb",
      "provenance": [],
      "collapsed_sections": [],
      "authorship_tag": "ABX9TyNB6Z3hXJ7eEgP/LrpOem4n",
      "include_colab_link": true
    },
    "kernelspec": {
      "name": "python3",
      "display_name": "Python 3"
    }
  },
  "cells": [
    {
      "cell_type": "markdown",
      "metadata": {
        "id": "view-in-github",
        "colab_type": "text"
      },
      "source": [
        "<a href=\"https://colab.research.google.com/github/GabrielLourenco12/python_exercises/blob/main/Exercicios7.ipynb\" target=\"_parent\"><img src=\"https://colab.research.google.com/assets/colab-badge.svg\" alt=\"Open In Colab\"/></a>"
      ]
    },
    {
      "cell_type": "markdown",
      "metadata": {
        "id": "w-e_kM5jqG69"
      },
      "source": [
        "## Exercícios 7"
      ]
    },
    {
      "cell_type": "markdown",
      "metadata": {
        "id": "fhts_elcqLJm"
      },
      "source": [
        "Crie uma lista vazia e faça a leitura de dois valores do tipo float, colocando cada um dos valores nas primeiras posições da lista (o valor1 ficará na posição 0 da lista e o valor2 ficará na posição 1 da lista). Faça a divisão dos dois valores e trate as seguintes exceções:\n",
        "\n",
        "– ValueError: se o usuário digitar um caracter\n",
        "\n",
        "– ZeroDivisionError: se o usuário digitar zero e ocorrer erro na divisão\n",
        "\n",
        "– IndexError: caso a divisão seja feita levando em consideração posições que não existem na lista\n",
        "\n",
        "– KeyboardInterrupt: caso o usuário interrompa a execução"
      ]
    },
    {
      "cell_type": "code",
      "metadata": {
        "id": "nyNkxb8RqPsx",
        "outputId": "99b0f475-013e-4dda-f7ff-6274ca324024",
        "colab": {
          "base_uri": "https://localhost:8080/",
          "height": 168
        }
      },
      "source": [
        "lista = []\n",
        "resp = 'S'\n",
        "while True:\n",
        "  try:\n",
        "    while resp == 'S':\n",
        "      num = float(input('Digite um valor: '))\n",
        "      lista.append(num)\n",
        "      resp = input('Deseja continuar? S/N ')\n",
        "  except ValueError:\n",
        "    print('Valor inválido')\n",
        "  except KeyboardInterrupt:\n",
        "    print('Usuário interrompeu a execução')\n",
        "    break\n",
        "  else:\n",
        "    print(f'Lista digitada é {lista}')\n",
        "    break"
      ],
      "execution_count": null,
      "outputs": [
        {
          "output_type": "stream",
          "text": [
            "Digite um valor: 50\n",
            "Deseja continuar? S/N S\n",
            "Digite um valor: 10\n",
            "Deseja continuar? S/N S\n",
            "Digite um valor: 2\n",
            "Deseja continuar? S/N S\n",
            "Digite um valor: 2.5\n",
            "Deseja continuar? S/N g\n",
            "Lista digitada é [50.0, 10.0, 2.0, 2.5]\n"
          ],
          "name": "stdout"
        }
      ]
    },
    {
      "cell_type": "code",
      "metadata": {
        "id": "q8sUMMjgqCjW",
        "outputId": "0eb47ed0-c298-47bf-cffe-80a2b68d25f9",
        "colab": {
          "base_uri": "https://localhost:8080/",
          "height": 34
        }
      },
      "source": [
        "divisao = lista[0]\n",
        "try:\n",
        "  for i in range(1, len(lista)):\n",
        "    divisao = divisao/lista[i]\n",
        "    #print(divisao)\n",
        "except ZeroDivisionError:\n",
        "  print('Não é possível dividir por 0')\n",
        "except KeyboardInterrupt:\n",
        "  print('Usuário interrompeu a execução')\n",
        "except IndexError:\n",
        "  print('Índice inválido')  \n",
        "else:\n",
        "  print(f'A divisão é {divisao}')"
      ],
      "execution_count": null,
      "outputs": [
        {
          "output_type": "stream",
          "text": [
            "A divisão é 1.0\n"
          ],
          "name": "stdout"
        }
      ]
    },
    {
      "cell_type": "code",
      "metadata": {
        "id": "O01_XLERvU1C"
      },
      "source": [
        ""
      ],
      "execution_count": null,
      "outputs": []
    }
  ]
}