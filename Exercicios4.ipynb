{
  "nbformat": 4,
  "nbformat_minor": 0,
  "metadata": {
    "colab": {
      "name": "Exercicios4.ipynb",
      "provenance": [],
      "collapsed_sections": [],
      "authorship_tag": "ABX9TyP8VeDr9hegje9sTF4tpIyI",
      "include_colab_link": true
    },
    "kernelspec": {
      "name": "python3",
      "display_name": "Python 3"
    }
  },
  "cells": [
    {
      "cell_type": "markdown",
      "metadata": {
        "id": "view-in-github",
        "colab_type": "text"
      },
      "source": [
        "<a href=\"https://colab.research.google.com/github/GabrielLourenco12/python_exercises/blob/main/Exercicios4.ipynb\" target=\"_parent\"><img src=\"https://colab.research.google.com/assets/colab-badge.svg\" alt=\"Open In Colab\"/></a>"
      ]
    },
    {
      "cell_type": "markdown",
      "metadata": {
        "id": "AYjezBXuT5S-"
      },
      "source": [
        "## Exercícios 4"
      ]
    },
    {
      "cell_type": "markdown",
      "metadata": {
        "id": "B5f8AUZZT8KT"
      },
      "source": [
        "Lista: Crie uma estrutura de repetição para fazer a leitura de 5 números inteiros e os armazene dentro de uma lista. Após a leitura, crie outra estrutura de repetição para somar todos os valores digitados"
      ]
    },
    {
      "cell_type": "code",
      "metadata": {
        "id": "cXhcl2AoTzo0",
        "outputId": "243d1c54-0023-42aa-9504-01aea860610a",
        "colab": {
          "base_uri": "https://localhost:8080/",
          "height": 118
        }
      },
      "source": [
        "l1 = []\n",
        "for i in range (0,5):\n",
        "  num = int(input('Digite um número '))\n",
        "  l1.append (num)\n",
        "print(l1)"
      ],
      "execution_count": null,
      "outputs": [
        {
          "output_type": "stream",
          "text": [
            "Digite um número 5\n",
            "Digite um número 10\n",
            "Digite um número 15\n",
            "Digite um número 0\n",
            "Digite um número 0\n",
            "[5, 10, 15, 0, 0]\n"
          ],
          "name": "stdout"
        }
      ]
    },
    {
      "cell_type": "code",
      "metadata": {
        "id": "9g6Q-9f3XEES",
        "outputId": "52ede423-07ca-464d-b7e7-403f6b629ece",
        "colab": {
          "base_uri": "https://localhost:8080/",
          "height": 34
        }
      },
      "source": [
        "soma = 0\n",
        "for item in l1:\n",
        "  soma = soma + item\n",
        "print(soma)"
      ],
      "execution_count": null,
      "outputs": [
        {
          "output_type": "stream",
          "text": [
            "30\n"
          ],
          "name": "stdout"
        }
      ]
    },
    {
      "cell_type": "code",
      "metadata": {
        "id": "zcu9dua8dIae",
        "outputId": "b7a97534-1c04-4e1a-b001-3f13cbf2832a",
        "colab": {
          "base_uri": "https://localhost:8080/",
          "height": 34
        }
      },
      "source": [
        "soma = 0\n",
        "for i in range(len(l1)):\n",
        "  soma += l1[i]\n",
        "print(soma)"
      ],
      "execution_count": null,
      "outputs": [
        {
          "output_type": "stream",
          "text": [
            "30\n"
          ],
          "name": "stdout"
        }
      ]
    },
    {
      "cell_type": "code",
      "metadata": {
        "id": "xMHqTKkqdYgT",
        "outputId": "14692fad-71fd-45d4-c7b3-3e02968e56cf",
        "colab": {
          "base_uri": "https://localhost:8080/",
          "height": 34
        }
      },
      "source": [
        "import numpy as np\n",
        "np.array(l1).sum()"
      ],
      "execution_count": null,
      "outputs": [
        {
          "output_type": "execute_result",
          "data": {
            "text/plain": [
              "30"
            ]
          },
          "metadata": {
            "tags": []
          },
          "execution_count": 46
        }
      ]
    },
    {
      "cell_type": "markdown",
      "metadata": {
        "id": "a1Q4WgIqWGuB"
      },
      "source": [
        "Crie um dicionário para armazenar o nome e a nota de 3 alunos, fazendo a leitura dos valores por meio de uma estrutura de repetição. Depois, crie uma nova estrutura de repetição para somar todas as notas e retornar a média"
      ]
    },
    {
      "cell_type": "code",
      "metadata": {
        "id": "Z9TvdBfIWJVx",
        "outputId": "6b0801d0-c60c-4f26-bf91-7f14e4ef8e38",
        "colab": {
          "base_uri": "https://localhost:8080/",
          "height": 302
        }
      },
      "source": [
        "dnv = 'S'\n",
        "escola = {}\n",
        "while dnv == 'S':\n",
        "  nome_aluno = input('Nome: ')\n",
        "  nota_aluno = int(input('Nota: '))\n",
        "  escola[nome_aluno] = nota_aluno\n",
        "  dnv = input('Adicionar outro aluno? S/N ')\n",
        "  print()\n",
        "print(escola)"
      ],
      "execution_count": null,
      "outputs": [
        {
          "output_type": "stream",
          "text": [
            "Nome: Geovani\n",
            "Nota: 10\n",
            "Adicionar outro aluno? S/N S\n",
            "\n",
            "Nome: Kátia\n",
            "Nota: 10\n",
            "Adicionar outro aluno? S/N S\n",
            "\n",
            "Nome: Thais\n",
            "Nota: 5\n",
            "Adicionar outro aluno? S/N S\n",
            "\n",
            "Nome: Gabriel\n",
            "Nota: 15\n",
            "Adicionar outro aluno? S/N N\n",
            "\n",
            "{'Geovani': 10, 'Kátia': 10, 'Thais': 5, 'Gabriel': 15}\n"
          ],
          "name": "stdout"
        }
      ]
    },
    {
      "cell_type": "code",
      "metadata": {
        "id": "IlvNzzeMWJxJ",
        "outputId": "1f7223c9-4deb-4133-af08-4b8e61acd4c5",
        "colab": {
          "base_uri": "https://localhost:8080/",
          "height": 34
        }
      },
      "source": [
        "j=0\n",
        "media = 0\n",
        "for notas in escola.values():\n",
        "  media += notas\n",
        "  j +=1\n",
        "media = media/j \n",
        "print ('A média é:', media)"
      ],
      "execution_count": null,
      "outputs": [
        {
          "output_type": "stream",
          "text": [
            "A média é: 10.0\n"
          ],
          "name": "stdout"
        }
      ]
    },
    {
      "cell_type": "markdown",
      "metadata": {
        "id": "nMYJX6yfWKDJ"
      },
      "source": [
        "Dada a matriz abaixo, construa uma estrutura de repetição para percorrer e somar todos os elementos da matriz"
      ]
    },
    {
      "cell_type": "code",
      "metadata": {
        "id": "6sAM3S_IWNOj",
        "outputId": "048a7935-f103-4254-874f-f035f621cac8",
        "colab": {
          "base_uri": "https://localhost:8080/",
          "height": 50
        }
      },
      "source": [
        "import numpy as np\n",
        "\n",
        "matriz = np.array([[3, 4, 1],\n",
        "                   [3, 2, 5]])\n",
        "\n",
        "print (matriz)"
      ],
      "execution_count": null,
      "outputs": [
        {
          "output_type": "stream",
          "text": [
            "[[3 4 1]\n",
            " [3 2 5]]\n"
          ],
          "name": "stdout"
        }
      ]
    },
    {
      "cell_type": "code",
      "metadata": {
        "id": "-xPeZzr7bzxj",
        "outputId": "50c6eb54-2934-41c3-9bc0-b8b6595d1ff8",
        "colab": {
          "base_uri": "https://localhost:8080/",
          "height": 34
        }
      },
      "source": [
        "soma = 0\n",
        "for i in range(matriz.shape[0]):\n",
        "  for j in range (matriz.shape[1]):\n",
        "    soma = soma + matriz[i][j]\n",
        "\n",
        "print (soma)"
      ],
      "execution_count": null,
      "outputs": [
        {
          "output_type": "stream",
          "text": [
            "18\n"
          ],
          "name": "stdout"
        }
      ]
    }
  ]
}