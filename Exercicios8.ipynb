{
  "nbformat": 4,
  "nbformat_minor": 0,
  "metadata": {
    "colab": {
      "name": "Exercicios8",
      "provenance": [],
      "collapsed_sections": [],
      "authorship_tag": "ABX9TyNzF7zNAPxSR36oVyxybuJX",
      "include_colab_link": true
    },
    "kernelspec": {
      "name": "python3",
      "display_name": "Python 3"
    }
  },
  "cells": [
    {
      "cell_type": "markdown",
      "metadata": {
        "id": "view-in-github",
        "colab_type": "text"
      },
      "source": [
        "<a href=\"https://colab.research.google.com/github/GabrielLourenco12/python_exercises/blob/main/Exercicios8.ipynb\" target=\"_parent\"><img src=\"https://colab.research.google.com/assets/colab-badge.svg\" alt=\"Open In Colab\"/></a>"
      ]
    },
    {
      "cell_type": "markdown",
      "metadata": {
        "id": "lOoD8oIY3sOr"
      },
      "source": [
        "## Exercícios 8"
      ]
    },
    {
      "cell_type": "markdown",
      "metadata": {
        "id": "7rnSZi2H3vE-"
      },
      "source": [
        "Considerando o dicionário com o nome dos alunos e suas respectivas notas abaixo, crie uma estrutura de repetição para percorrer cada elemento do dicionário para gravar cada aluno em um novo arquivo de texto\n",
        "\n",
        "– Cada aluno deve ocupar uma linha do novo arquivo de texto\n",
        "\n",
        "– O formato deve ser: nome,nota (Pedro,8.0)\n",
        "\n",
        "– Após a criação do arquivo de texto, faça a leitura do arquivo e mostre todos os alunos"
      ]
    },
    {
      "cell_type": "code",
      "metadata": {
        "id": "7BH-KGIE3mEx"
      },
      "source": [
        "alunos = {'Pedro': 8.0, 'Maria': 10.0, 'Amilton': 7.5}"
      ],
      "execution_count": null,
      "outputs": []
    },
    {
      "cell_type": "code",
      "metadata": {
        "id": "i16k9Qat4spf",
        "outputId": "cae9a81a-e5d1-480f-927c-0cf558445627",
        "colab": {
          "base_uri": "https://localhost:8080/",
          "height": 34
        }
      },
      "source": [
        "alunos.items()"
      ],
      "execution_count": null,
      "outputs": [
        {
          "output_type": "execute_result",
          "data": {
            "text/plain": [
              "dict_items([('Pedro', 8.0), ('Maria', 10.0), ('Amilton', 7.5)])"
            ]
          },
          "metadata": {
            "tags": []
          },
          "execution_count": 15
        }
      ]
    },
    {
      "cell_type": "code",
      "metadata": {
        "id": "f5kV0two38ki"
      },
      "source": [
        "with open('texto.txt', 'w') as texto:\n",
        "  for nome, nota in alunos.items():\n",
        "    texto.write(f'{nome}, {nota}\\n')\n"
      ],
      "execution_count": null,
      "outputs": []
    },
    {
      "cell_type": "code",
      "metadata": {
        "id": "S4ffFwQ_7ecY",
        "outputId": "8b246d75-3e9c-43be-9bfa-923251f46331",
        "colab": {
          "base_uri": "https://localhost:8080/",
          "height": 118
        }
      },
      "source": [
        "with open('texto.txt', 'r') as tex:\n",
        "  for linha in tex:\n",
        "    print(linha)"
      ],
      "execution_count": null,
      "outputs": [
        {
          "output_type": "stream",
          "text": [
            "Pedro, 8.0\n",
            "\n",
            "Maria, 10.0\n",
            "\n",
            "Amilton, 7.5\n",
            "\n"
          ],
          "name": "stdout"
        }
      ]
    }
  ]
}