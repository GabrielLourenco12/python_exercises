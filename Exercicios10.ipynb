{
  "nbformat": 4,
  "nbformat_minor": 0,
  "metadata": {
    "colab": {
      "name": "Exercicios10.ipynb",
      "provenance": [],
      "collapsed_sections": [],
      "authorship_tag": "ABX9TyPNp+cffUo27OhamqnmcdQc",
      "include_colab_link": true
    },
    "kernelspec": {
      "name": "python3",
      "display_name": "Python 3"
    }
  },
  "cells": [
    {
      "cell_type": "markdown",
      "metadata": {
        "id": "view-in-github",
        "colab_type": "text"
      },
      "source": [
        "<a href=\"https://colab.research.google.com/github/GabrielLourenco12/python_exercises/blob/main/Exercicios10.ipynb\" target=\"_parent\"><img src=\"https://colab.research.google.com/assets/colab-badge.svg\" alt=\"Open In Colab\"/></a>"
      ]
    },
    {
      "cell_type": "markdown",
      "metadata": {
        "id": "jfHLNRzYRR2V"
      },
      "source": [
        "# Exercício 10"
      ]
    },
    {
      "cell_type": "markdown",
      "metadata": {
        "id": "H6qli7-jRUry"
      },
      "source": [
        "Crie uma classe chamada aluno com os seguintes atributos:\n",
        "\n",
        "– Nome\n",
        "\n",
        "– Nota 1\n",
        "\n",
        "– Nota 2\n",
        "\n",
        "– Crie um construtor para a classe (__init__)\n",
        "\n",
        "\n",
        "Crie as seguintes funções (métodos):\n",
        "\n",
        "– Calcula média, retornando a média aritmética entre as notas\n",
        "\n",
        "– Mostra dados, que somente imprime o valor de todos os atributos\n",
        "\n",
        "– Resultado, que verifica se o aluno está aprovado ou reprovado (se a média for maior ou igual a 6.0, o aluno está aprovado)\n",
        "\n",
        "Crie dois objetos (aluno1 e aluno2) e teste as funções"
      ]
    },
    {
      "cell_type": "code",
      "metadata": {
        "id": "y2JlCD9VR5Aw"
      },
      "source": [
        "class aluno:\n",
        "  def __init__ (self, nome, nota1, nota2):\n",
        "    self.nome = nome\n",
        "    self.nota1 = nota1\n",
        "    self.nota2 = nota2\n",
        "    self.media = 0\n",
        "\n",
        "  def calc_media (self):\n",
        "    self.media = (self.nota1 + self.nota2)/2\n",
        "    return self.media\n",
        "  \n",
        "  def mostrar (self):\n",
        "    print('Nome: ',self.nome) \n",
        "    print('Nota 1: ',self.nota1)\n",
        "    print('Nota 2: ',self.nota2)\n",
        "    print('Média: ',self.media)\n",
        "\n",
        "  def resultado (self):\n",
        "    if self.media < 6:\n",
        "      return 'REPROVADO'\n",
        "    else:\n",
        "      return 'APROVADO'\n",
        "\n"
      ],
      "execution_count": null,
      "outputs": []
    },
    {
      "cell_type": "code",
      "metadata": {
        "id": "zw3flWx0ZQmZ",
        "outputId": "aee0605c-108d-4229-fc8d-d27f3f1e0a2e",
        "colab": {
          "base_uri": "https://localhost:8080/",
          "height": 34
        }
      },
      "source": [
        "a1 = aluno('Gabriel', 10, 8)\n",
        "print(a1.nome, a1.nota1, a1.nota2)"
      ],
      "execution_count": null,
      "outputs": [
        {
          "output_type": "stream",
          "text": [
            "Gabriel 10 8\n"
          ],
          "name": "stdout"
        }
      ]
    },
    {
      "cell_type": "code",
      "metadata": {
        "id": "Ykymx28SaW4x",
        "outputId": "394011e4-75e5-416d-d16f-c33f3041eea3",
        "colab": {
          "base_uri": "https://localhost:8080/",
          "height": 34
        }
      },
      "source": [
        "a1media = a1.calc_media()\n",
        "print(a1media)"
      ],
      "execution_count": null,
      "outputs": [
        {
          "output_type": "stream",
          "text": [
            "9.0\n"
          ],
          "name": "stdout"
        }
      ]
    },
    {
      "cell_type": "code",
      "metadata": {
        "id": "eFOTcp1pac5u",
        "outputId": "cec85f70-06f0-4856-f736-bd2d31e9169a",
        "colab": {
          "base_uri": "https://localhost:8080/",
          "height": 84
        }
      },
      "source": [
        "a1.mostrar()"
      ],
      "execution_count": null,
      "outputs": [
        {
          "output_type": "stream",
          "text": [
            "Nome:  Gabriel\n",
            "Nota 1:  10\n",
            "Nota 2:  8\n",
            "Média:  0.0\n"
          ],
          "name": "stdout"
        }
      ]
    },
    {
      "cell_type": "code",
      "metadata": {
        "id": "lEfM5QniRLux",
        "outputId": "040f8102-54b6-4b37-d4b0-4b63f23dbedc",
        "colab": {
          "base_uri": "https://localhost:8080/",
          "height": 35
        }
      },
      "source": [
        "a1.resultado()"
      ],
      "execution_count": null,
      "outputs": [
        {
          "output_type": "execute_result",
          "data": {
            "application/vnd.google.colaboratory.intrinsic+json": {
              "type": "string"
            },
            "text/plain": [
              "'APROVADO'"
            ]
          },
          "metadata": {
            "tags": []
          },
          "execution_count": 71
        }
      ]
    },
    {
      "cell_type": "code",
      "metadata": {
        "id": "35N6mo6LarEu",
        "outputId": "e2fef4d4-bb67-4acc-d962-01d347d38aa2",
        "colab": {
          "base_uri": "https://localhost:8080/",
          "height": 34
        }
      },
      "source": [
        "a2 = aluno('Thais', 8, 2)\n",
        "print(a2.nome, a2.nota1, a2.nota2)"
      ],
      "execution_count": null,
      "outputs": [
        {
          "output_type": "stream",
          "text": [
            "Thais 8 2\n"
          ],
          "name": "stdout"
        }
      ]
    },
    {
      "cell_type": "code",
      "metadata": {
        "id": "cE34szI5azTe",
        "outputId": "937f61a5-e971-4b27-be5b-19aba336d77a",
        "colab": {
          "base_uri": "https://localhost:8080/",
          "height": 34
        }
      },
      "source": [
        "a2media = a2.calc_media\n",
        "print(a2media)"
      ],
      "execution_count": null,
      "outputs": [
        {
          "output_type": "stream",
          "text": [
            "<bound method aluno.calc_media of <__main__.aluno object at 0x7f49f3b3f2b0>>\n"
          ],
          "name": "stdout"
        }
      ]
    },
    {
      "cell_type": "code",
      "metadata": {
        "id": "Cn1shzQ1a1lm",
        "outputId": "cfbf3aa1-a50e-41c4-e1d4-5051eb578b00",
        "colab": {
          "base_uri": "https://localhost:8080/",
          "height": 67
        }
      },
      "source": [
        "a2.mostrar()"
      ],
      "execution_count": null,
      "outputs": [
        {
          "output_type": "stream",
          "text": [
            "Nome: Thais\n",
            "Nota 1: 8\n",
            " Nota 2: 2\n"
          ],
          "name": "stdout"
        }
      ]
    },
    {
      "cell_type": "code",
      "metadata": {
        "id": "CDxG7pWfa4Al",
        "outputId": "e02082e5-7fc3-4025-896d-7ffe4c16d574",
        "colab": {
          "base_uri": "https://localhost:8080/",
          "height": 35
        }
      },
      "source": [
        "a2.resultado()"
      ],
      "execution_count": null,
      "outputs": [
        {
          "output_type": "execute_result",
          "data": {
            "application/vnd.google.colaboratory.intrinsic+json": {
              "type": "string"
            },
            "text/plain": [
              "'REPROVADO'"
            ]
          },
          "metadata": {
            "tags": []
          },
          "execution_count": 16
        }
      ]
    }
  ]
}