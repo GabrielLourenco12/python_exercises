{
  "nbformat": 4,
  "nbformat_minor": 0,
  "metadata": {
    "colab": {
      "name": "Exercicios9.ipynb",
      "provenance": [],
      "collapsed_sections": [],
      "authorship_tag": "ABX9TyN2fN8IG8yKQZ/QjSCv+nux",
      "include_colab_link": true
    },
    "kernelspec": {
      "name": "python3",
      "display_name": "Python 3"
    }
  },
  "cells": [
    {
      "cell_type": "markdown",
      "metadata": {
        "id": "view-in-github",
        "colab_type": "text"
      },
      "source": [
        "<a href=\"https://colab.research.google.com/github/GabrielLourenco12/python_exercises/blob/main/Exercicios9.ipynb\" target=\"_parent\"><img src=\"https://colab.research.google.com/assets/colab-badge.svg\" alt=\"Open In Colab\"/></a>"
      ]
    },
    {
      "cell_type": "markdown",
      "metadata": {
        "id": "V-M1PYMEGow1"
      },
      "source": [
        "# Exercício 9"
      ]
    },
    {
      "cell_type": "markdown",
      "metadata": {
        "id": "TVIvPO0FGr20"
      },
      "source": [
        "Crie expressões regulares para extrair as seguintes informações do texto abaixo (use a função findall):\n",
        "\n",
        "– Números\n",
        "\n",
        "– CEPs\n",
        "\n",
        "– URLs"
      ]
    },
    {
      "cell_type": "code",
      "metadata": {
        "id": "XOOOK-6dGj8A"
      },
      "source": [
        "import re"
      ],
      "execution_count": null,
      "outputs": []
    },
    {
      "cell_type": "code",
      "metadata": {
        "id": "77AgdTfXH0Ae"
      },
      "source": [
        "texto = \"Minha casa fica na rua Cristina Maria de Assis, 13, o CEP é 30855-440 e o meu site é https://www.linkedin.com/in/gabriellourenco12\""
      ],
      "execution_count": null,
      "outputs": []
    },
    {
      "cell_type": "markdown",
      "metadata": {
        "id": "g1ZDmKgdHBcU"
      },
      "source": [
        "Números"
      ]
    },
    {
      "cell_type": "code",
      "metadata": {
        "id": "1K3tAbYfGz-r",
        "outputId": "f828f61c-088a-4d8a-c112-a6b7e5943e74",
        "colab": {
          "base_uri": "https://localhost:8080/",
          "height": 34
        }
      },
      "source": [
        "re.findall('\\d', texto)\n"
      ],
      "execution_count": null,
      "outputs": [
        {
          "output_type": "execute_result",
          "data": {
            "text/plain": [
              "['1', '3', '3', '0', '8', '5', '5', '4', '4', '0', '1', '2']"
            ]
          },
          "metadata": {
            "tags": []
          },
          "execution_count": 12
        }
      ]
    },
    {
      "cell_type": "code",
      "metadata": {
        "id": "TBUsiagJJlTz",
        "outputId": "93368aae-7810-4e1c-d66c-9179a5e37a83",
        "colab": {
          "base_uri": "https://localhost:8080/",
          "height": 34
        }
      },
      "source": [
        "re.findall('\\d+', texto)"
      ],
      "execution_count": null,
      "outputs": [
        {
          "output_type": "execute_result",
          "data": {
            "text/plain": [
              "['13', '30855', '440', '12']"
            ]
          },
          "metadata": {
            "tags": []
          },
          "execution_count": 11
        }
      ]
    },
    {
      "cell_type": "markdown",
      "metadata": {
        "id": "PomY2NycHBB7"
      },
      "source": [
        "CEP"
      ]
    },
    {
      "cell_type": "code",
      "metadata": {
        "id": "aVlJ40L1HJIE",
        "outputId": "bbdf9859-d535-4cad-d38b-4d3429f0a898",
        "colab": {
          "base_uri": "https://localhost:8080/",
          "height": 34
        }
      },
      "source": [
        "re.findall('\\d{5}-\\d{3}',texto)"
      ],
      "execution_count": null,
      "outputs": [
        {
          "output_type": "execute_result",
          "data": {
            "text/plain": [
              "['30855-440']"
            ]
          },
          "metadata": {
            "tags": []
          },
          "execution_count": 14
        }
      ]
    },
    {
      "cell_type": "markdown",
      "metadata": {
        "id": "ZKdANDaBHIRe"
      },
      "source": [
        "URLs"
      ]
    },
    {
      "cell_type": "code",
      "metadata": {
        "id": "LIPmCbQCHLj6",
        "outputId": "3d7c496b-2db1-48ef-f7ac-124f78719b21",
        "colab": {
          "base_uri": "https://localhost:8080/",
          "height": 34
        }
      },
      "source": [
        "re.findall('https?://[A-Za-z0-9./]+',texto)"
      ],
      "execution_count": null,
      "outputs": [
        {
          "output_type": "execute_result",
          "data": {
            "text/plain": [
              "['https://www.linkedin.com/in/gabriellourenco12']"
            ]
          },
          "metadata": {
            "tags": []
          },
          "execution_count": 25
        }
      ]
    }
  ]
}