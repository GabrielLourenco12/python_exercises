{
  "nbformat": 4,
  "nbformat_minor": 0,
  "metadata": {
    "colab": {
      "name": "Exercicios6.ipynb",
      "provenance": [],
      "collapsed_sections": [],
      "authorship_tag": "ABX9TyO0kueYvz13p4nJvgyXsXp1",
      "include_colab_link": true
    },
    "kernelspec": {
      "name": "python3",
      "display_name": "Python 3"
    }
  },
  "cells": [
    {
      "cell_type": "markdown",
      "metadata": {
        "id": "view-in-github",
        "colab_type": "text"
      },
      "source": [
        "<a href=\"https://colab.research.google.com/github/GabrielLourenco12/python_exercises/blob/main/Exercicios6.ipynb\" target=\"_parent\"><img src=\"https://colab.research.google.com/assets/colab-badge.svg\" alt=\"Open In Colab\"/></a>"
      ]
    },
    {
      "cell_type": "markdown",
      "metadata": {
        "id": "iMYfSR_VcgeG"
      },
      "source": [
        "## Exercícios 6"
      ]
    },
    {
      "cell_type": "markdown",
      "metadata": {
        "id": "z5v80ZGXcjoe"
      },
      "source": [
        "Crie um arquivo .py com duas funções\n",
        "\n",
        "– Função para ler um string (recebe como parâmetro uma mensagem e retorna o que o usuário digitou)\n",
        "\n",
        "– Função para ler um número float (recebe como parâmetro uma mensagem e retorna o que o usuário digitou)"
      ]
    },
    {
      "cell_type": "code",
      "metadata": {
        "id": "s4unZwHOcbig"
      },
      "source": [
        "import utilitarios_ex6 as ut6"
      ],
      "execution_count": null,
      "outputs": []
    },
    {
      "cell_type": "code",
      "metadata": {
        "id": "GnLplA6BdoDL",
        "outputId": "99b16853-4227-4e2c-c930-ab1d90c3fc29",
        "colab": {
          "base_uri": "https://localhost:8080/",
          "height": 50
        }
      },
      "source": [
        "texto = ut6.ler_retorna('Digite a mensagem:')\n",
        "print(texto)"
      ],
      "execution_count": null,
      "outputs": [
        {
          "output_type": "stream",
          "text": [
            "Digite a mensagem: OI\n",
            "OI\n"
          ],
          "name": "stdout"
        }
      ]
    },
    {
      "cell_type": "code",
      "metadata": {
        "id": "VRDXdgvDgTyE",
        "outputId": "fbb1f98f-caab-4a50-880b-d8e2be448a0b",
        "colab": {
          "base_uri": "https://localhost:8080/",
          "height": 50
        }
      },
      "source": [
        "numero = ut6.ler_num_retorna('Digite um número: ')\n",
        "print (numero)"
      ],
      "execution_count": null,
      "outputs": [
        {
          "output_type": "stream",
          "text": [
            "Digite um número: 13\n",
            "13.0\n"
          ],
          "name": "stdout"
        }
      ]
    },
    {
      "cell_type": "markdown",
      "metadata": {
        "id": "ZvfoPrLTcf8g"
      },
      "source": [
        ""
      ]
    },
    {
      "cell_type": "code",
      "metadata": {
        "id": "MfglTmgfgj8M",
        "outputId": "f17f30c1-0aa3-4ffb-9a9e-9365b0526302",
        "colab": {
          "base_uri": "https://localhost:8080/",
          "height": 50
        }
      },
      "source": [
        "carro = ut6.ler_retorna('Qual seu carro: ')\n",
        "print(carro)"
      ],
      "execution_count": null,
      "outputs": [
        {
          "output_type": "stream",
          "text": [
            "Digite a mensagem: gol\n",
            "gol\n"
          ],
          "name": "stdout"
        }
      ]
    }
  ]
}