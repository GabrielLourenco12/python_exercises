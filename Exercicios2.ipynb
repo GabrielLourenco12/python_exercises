{
  "nbformat": 4,
  "nbformat_minor": 0,
  "metadata": {
    "colab": {
      "name": "Exercicios2.ipynb",
      "provenance": [],
      "collapsed_sections": [],
      "authorship_tag": "ABX9TyMSDNfEcD8B49UB3AbQMF7i",
      "include_colab_link": true
    },
    "kernelspec": {
      "name": "python3",
      "display_name": "Python 3"
    }
  },
  "cells": [
    {
      "cell_type": "markdown",
      "metadata": {
        "id": "view-in-github",
        "colab_type": "text"
      },
      "source": [
        "<a href=\"https://colab.research.google.com/github/GabrielLourenco12/python_exercises/blob/main/Exercicios2.ipynb\" target=\"_parent\"><img src=\"https://colab.research.google.com/assets/colab-badge.svg\" alt=\"Open In Colab\"/></a>"
      ]
    },
    {
      "cell_type": "markdown",
      "metadata": {
        "id": "_VHp8Pxy449p"
      },
      "source": [
        "## Exercícios 2"
      ]
    },
    {
      "cell_type": "markdown",
      "metadata": {
        "id": "YR5_1b_a4-Gg"
      },
      "source": [
        "Leia a idade do usuário e classifique-o em:\n",
        "\n",
        "– Criança – 0 a 12 anos\n",
        "\n",
        "– Adolescente – 13 a 17 anos\n",
        "\n",
        "– Adulto – acima de 18 anos\n",
        "\n",
        "-Se o usuário digitar um número negativo, mostrar a mensagem que a idade é inválida"
      ]
    },
    {
      "cell_type": "code",
      "metadata": {
        "id": "oMrsd2Lo40VK",
        "outputId": "7d8af131-5042-4fd8-c4f3-24411ac5e4ee",
        "colab": {
          "base_uri": "https://localhost:8080/",
          "height": 50
        }
      },
      "source": [
        "idade = int(input('Digite a sua idade: '))\n",
        "print(idade)"
      ],
      "execution_count": null,
      "outputs": [
        {
          "output_type": "stream",
          "text": [
            "Digite a sua idade: 16\n",
            "16\n"
          ],
          "name": "stdout"
        }
      ]
    },
    {
      "cell_type": "code",
      "metadata": {
        "id": "RG-8bjI25sGl",
        "outputId": "58f49598-0a39-4fb1-a531-e05d6b835a2f",
        "colab": {
          "base_uri": "https://localhost:8080/",
          "height": 34
        }
      },
      "source": [
        "if idade < 0 :\n",
        "  print('Idade inválida')\n",
        "elif idade >= 0 and idade <= 12:\n",
        "  print('Criança') \n",
        "elif idade >= 13 and idade <= 17:\n",
        "  print('Adolescente') \n",
        "else: \n",
        "  print('Adulto') \n"
      ],
      "execution_count": null,
      "outputs": [
        {
          "output_type": "stream",
          "text": [
            "Adolescente\n"
          ],
          "name": "stdout"
        }
      ]
    },
    {
      "cell_type": "markdown",
      "metadata": {
        "id": "Q9MuH-_j6vz2"
      },
      "source": [
        "Calcular a média de um aluno que cursou a disciplina de Programação I, a partir da leitura das notas M1, M2 e M3; passando por um cálculo da média aritmética. Após a média calculada, devemos anunciar se o aluno foi aprovado, reprovado ou pegou exame\n",
        "\n",
        "– Se a média estiver entre 0.0 e 4.0, o aluno está reprovado\n",
        "\n",
        "– Se a média estiver entre 4.1 e 6.0, o aluno pegou exame\n",
        "\n",
        "– Se a média for maior do que 6.0, o aluno está aprovado\n",
        "\n",
        "– Se o aluno pegou exame, deve ser lida a nota do exame. Se a nota do exame for maior do que 6.0, está aprovado, senão; está reprovado"
      ]
    },
    {
      "cell_type": "code",
      "metadata": {
        "id": "JIljzc9u6vWH",
        "outputId": "2af420fd-1665-428e-c503-e31f60307d55",
        "colab": {
          "base_uri": "https://localhost:8080/",
          "height": 84
        }
      },
      "source": [
        "M1 = float(input('Nota 1: '))\n",
        "M2 = float(input('Nota 2: '))\n",
        "M3 = float(input('Nota 3: '))\n",
        "media = (M1+M2+M3)/3\n",
        "print(media)"
      ],
      "execution_count": null,
      "outputs": [
        {
          "output_type": "stream",
          "text": [
            "Nota 1: 5\n",
            "Nota 2: 6\n",
            "Nota 3: 2\n",
            "4.333333333333333\n"
          ],
          "name": "stdout"
        }
      ]
    },
    {
      "cell_type": "code",
      "metadata": {
        "id": "rchRIR3O609O",
        "outputId": "e07d0a5f-495b-4aab-f89c-1eaf2f031a70",
        "colab": {
          "base_uri": "https://localhost:8080/",
          "height": 50
        }
      },
      "source": [
        "if media >=  0 and media <= 4 :\n",
        "  print('REPROVADO')\n",
        "elif media > 4 and media <= 6:\n",
        "  print('RECUPERAÇÃO')\n",
        "  exame = float(input('Nota do exame'))\n",
        "  if exame >= 6:\n",
        "    print('APROVADO')\n",
        "  else:\n",
        "    print('REPROVADO')\n",
        "else:\n",
        "  print('APROVADO') \n"
      ],
      "execution_count": null,
      "outputs": [
        {
          "output_type": "stream",
          "text": [
            "RECUPERAÇÃO\n",
            "Média:  4.33\n"
          ],
          "name": "stdout"
        }
      ]
    }
  ]
}