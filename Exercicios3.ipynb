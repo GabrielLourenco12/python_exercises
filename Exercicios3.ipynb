{
  "nbformat": 4,
  "nbformat_minor": 0,
  "metadata": {
    "colab": {
      "name": "Exercicios3.ipynb",
      "provenance": [],
      "authorship_tag": "ABX9TyNQxqBvina1sVXFO5tndpzV",
      "include_colab_link": true
    },
    "kernelspec": {
      "name": "python3",
      "display_name": "Python 3"
    }
  },
  "cells": [
    {
      "cell_type": "markdown",
      "metadata": {
        "id": "view-in-github",
        "colab_type": "text"
      },
      "source": [
        "<a href=\"https://colab.research.google.com/github/GabrielLourenco12/python_exercises/blob/main/Exercicios3.ipynb\" target=\"_parent\"><img src=\"https://colab.research.google.com/assets/colab-badge.svg\" alt=\"Open In Colab\"/></a>"
      ]
    },
    {
      "cell_type": "markdown",
      "metadata": {
        "id": "Oea_RripB29u"
      },
      "source": [
        "## Exercícios 3"
      ]
    },
    {
      "cell_type": "markdown",
      "metadata": {
        "id": "z-0jpYrDB56T"
      },
      "source": [
        "Ler 5 notas e informar a média"
      ]
    },
    {
      "cell_type": "code",
      "metadata": {
        "id": "EuN6x1OpB0Hu",
        "outputId": "d49b1cda-87ba-484f-8886-81c18e64a4fd",
        "colab": {
          "base_uri": "https://localhost:8080/",
          "height": 218
        }
      },
      "source": [
        "j = 0\n",
        "media = 0\n",
        "for _ in range (1,6):\n",
        "  j = j + 1\n",
        "  print('Nota', j, ':')\n",
        "  nota = float(input('Digite '))\n",
        "  media = media + nota\n",
        "media = media/j\n",
        "print()\n",
        "print('A média é:', media)\n"
      ],
      "execution_count": null,
      "outputs": [
        {
          "output_type": "stream",
          "text": [
            "Nota 1 :\n",
            "Digite 10\n",
            "Nota 2 :\n",
            "Digite 7\n",
            "Nota 3 :\n",
            "Digite 6\n",
            "Nota 4 :\n",
            "Digite 9\n",
            "Nota 5 :\n",
            "Digite 10\n",
            "\n",
            "A média é: 8.4\n"
          ],
          "name": "stdout"
        }
      ]
    },
    {
      "cell_type": "code",
      "metadata": {
        "id": "YjWHj9wWFWMO",
        "outputId": "6802e8be-bcea-4f0f-8f5a-550167da8c01",
        "colab": {
          "base_uri": "https://localhost:8080/",
          "height": 218
        }
      },
      "source": [
        "j = 1\n",
        "media = 0\n",
        "while j < 6:\n",
        "  print('Nota', j, ':')\n",
        "  nota = float(input('Digite '))\n",
        "  media = media + nota\n",
        "  j = j + 1\n",
        "media = media/(j-1)\n",
        "print()\n",
        "print('A média é:', media)"
      ],
      "execution_count": null,
      "outputs": [
        {
          "output_type": "stream",
          "text": [
            "Nota 1 :\n",
            "Digite 10\n",
            "Nota 2 :\n",
            "Digite 10\n",
            "Nota 3 :\n",
            "Digite 8\n",
            "Nota 4 :\n",
            "Digite 8\n",
            "Nota 5 :\n",
            "Digite 6\n",
            "\n",
            "A média é: 7.0\n"
          ],
          "name": "stdout"
        }
      ]
    },
    {
      "cell_type": "markdown",
      "metadata": {
        "id": "d6EYpT2GFSLo"
      },
      "source": [
        "Imprimir a tabuada do número 3 (3 x 1 = 1 – 3 x 10 = 30)"
      ]
    },
    {
      "cell_type": "code",
      "metadata": {
        "id": "V23yD1ePFVi8",
        "outputId": "076d86c2-0051-4802-cbc1-20253d055906",
        "colab": {
          "base_uri": "https://localhost:8080/",
          "height": 185
        }
      },
      "source": [
        "for i in range (1,11):\n",
        "  multiplicacao = 3 * i\n",
        "  print('3 X',i, '=', multiplicacao)"
      ],
      "execution_count": null,
      "outputs": [
        {
          "output_type": "stream",
          "text": [
            "3 X 1 = 3\n",
            "3 X 2 = 6\n",
            "3 X 3 = 9\n",
            "3 X 4 = 12\n",
            "3 X 5 = 15\n",
            "3 X 6 = 18\n",
            "3 X 7 = 21\n",
            "3 X 8 = 24\n",
            "3 X 9 = 27\n",
            "3 X 10 = 30\n"
          ],
          "name": "stdout"
        }
      ]
    },
    {
      "cell_type": "code",
      "metadata": {
        "id": "A1K64xjqHquL",
        "outputId": "4780bfef-74e2-4d52-cf9e-e7fbc3467b37",
        "colab": {
          "base_uri": "https://localhost:8080/",
          "height": 185
        }
      },
      "source": [
        "for i in range (1,11):\n",
        "  print('3 X {} = {}'.format(i, 3 * i))"
      ],
      "execution_count": null,
      "outputs": [
        {
          "output_type": "stream",
          "text": [
            "3 X 1 = 3\n",
            "3 X 2 = 6\n",
            "3 X 3 = 9\n",
            "3 X 4 = 12\n",
            "3 X 5 = 15\n",
            "3 X 6 = 18\n",
            "3 X 7 = 21\n",
            "3 X 8 = 24\n",
            "3 X 9 = 27\n",
            "3 X 10 = 30\n"
          ],
          "name": "stdout"
        }
      ]
    },
    {
      "cell_type": "code",
      "metadata": {
        "id": "vVn-1tO4G0k8",
        "outputId": "51066c98-9d7b-4ae8-b6dd-e10c99cede27",
        "colab": {
          "base_uri": "https://localhost:8080/",
          "height": 185
        }
      },
      "source": [
        "i=1\n",
        "while i < 11:\n",
        "  multiplicacao = 3 * i\n",
        "  print('3 X',i, '=', multiplicacao)\n",
        "  i = i +1"
      ],
      "execution_count": null,
      "outputs": [
        {
          "output_type": "stream",
          "text": [
            "3 X 1 = 3\n",
            "3 X 2 = 6\n",
            "3 X 3 = 9\n",
            "3 X 4 = 12\n",
            "3 X 5 = 15\n",
            "3 X 6 = 18\n",
            "3 X 7 = 21\n",
            "3 X 8 = 24\n",
            "3 X 9 = 27\n",
            "3 X 10 = 30\n"
          ],
          "name": "stdout"
        }
      ]
    }
  ]
}