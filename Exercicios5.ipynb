{
  "nbformat": 4,
  "nbformat_minor": 0,
  "metadata": {
    "colab": {
      "name": "Exercicios5.ipynb",
      "provenance": [],
      "collapsed_sections": [],
      "authorship_tag": "ABX9TyODsieIN0rhJMT/rGkYLeQc",
      "include_colab_link": true
    },
    "kernelspec": {
      "name": "python3",
      "display_name": "Python 3"
    }
  },
  "cells": [
    {
      "cell_type": "markdown",
      "metadata": {
        "id": "view-in-github",
        "colab_type": "text"
      },
      "source": [
        "<a href=\"https://colab.research.google.com/github/GabrielLourenco12/python_exercises/blob/main/Exercicios5.ipynb\" target=\"_parent\"><img src=\"https://colab.research.google.com/assets/colab-badge.svg\" alt=\"Open In Colab\"/></a>"
      ]
    },
    {
      "cell_type": "markdown",
      "metadata": {
        "id": "i5A_J3S4t7OR"
      },
      "source": [
        "## Exercícios 5\n"
      ]
    },
    {
      "cell_type": "markdown",
      "metadata": {
        "id": "lKIF0HDIt6i8"
      },
      "source": [
        "Ler uma temperatura em graus Celsius e apresentá-la convertida em graus Fahrenheit. A fórmula de conversão é F = (9 * C + 160) / 5, na qual F é a temperatura em Fahrenheit e C é a temperatura em graus Celsius\n",
        "\n",
        "– Função para ler e retorna o valor da temperatura (não recebe parâmetro)\n",
        "\n",
        "– Função para fazer o cálculo (recebe como parâmetro a temperatura em graus Celsius)\n",
        "\n",
        "– Função para mostrar o resultado, recebendo como parâmetro o valor e fazendo a impressão"
      ]
    },
    {
      "cell_type": "code",
      "metadata": {
        "id": "LF-Pflklvfgp"
      },
      "source": [
        "def conversao_impressao (f):\n",
        "  print ('Valor em Fahrenheit é', f, 'ºF')\n",
        "  "
      ],
      "execution_count": null,
      "outputs": []
    },
    {
      "cell_type": "code",
      "metadata": {
        "id": "0KQqfH6Btwti"
      },
      "source": [
        "def conversao_calculo (c):\n",
        "  f = (9 * c + 160) / 5\n",
        "  conversao_impressao(f)\n",
        "  "
      ],
      "execution_count": null,
      "outputs": []
    },
    {
      "cell_type": "code",
      "metadata": {
        "id": "cRQ5GVkGv6-q"
      },
      "source": [
        "def conversao_leitura():\n",
        "  c = float(input('Temperatura em ºC: '))\n",
        "  conversao_calculo(c)"
      ],
      "execution_count": null,
      "outputs": []
    },
    {
      "cell_type": "code",
      "metadata": {
        "id": "FbUYIavTvUcx",
        "outputId": "0e18bde2-c65c-4b7c-dd20-302119ff5d5b",
        "colab": {
          "base_uri": "https://localhost:8080/",
          "height": 50
        }
      },
      "source": [
        "conversao_leitura()"
      ],
      "execution_count": null,
      "outputs": [
        {
          "output_type": "stream",
          "text": [
            "Temperatura em ºC: 100\n",
            "Valor em Fahrenheit é 212.0 ºF\n"
          ],
          "name": "stdout"
        }
      ]
    },
    {
      "cell_type": "markdown",
      "metadata": {
        "id": "VgS_xVZivwOo"
      },
      "source": [
        "Efetuar o cálculo da quantidade de litros de combustível gasto em uma viagem, utilizando um automóvel que faz 12 Km por litro. Para obter o cálculo, o usuário deve fornecer o tempo gasto na viagem e a velocidade média durante ela. Desta forma, será possível obter a distância percorrida com a fórmula DISTANCIA = TEMPO * VELOCIDADE. Tendo o valor da distância, basta calcular a quantidade de litros de combustível utilizada na viagem, com a fórmula: LITROS_USADOS = DISTANCIA / 12. O programa deve apresentar os valores da velocidade média, tempo gasto na viagem, a distância percorrida e a quantidade de litros utilizada na viagem\n",
        "\n",
        "– Função para ler os valores (não recebe parâmetro e retorna os dois valores)\n",
        "\n",
        "– Função para calcular a distância (recebe como parâmetro o tempo e a velocidade e retorna a distância)\n",
        "\n",
        "– Função para calcular a quantidade de litros (recebe como parâmetro a distância e retorna os litros)\n",
        "\n",
        "– Função para apresentar o resultado (recebe como parâmetro os valores e somente imprime o resultado)"
      ]
    },
    {
      "cell_type": "code",
      "metadata": {
        "id": "CfXs1Mxov1pB"
      },
      "source": [
        "def leitura ():\n",
        "  tempo = (float(input('Tempo gasto (min): ')))/60\n",
        "  velo_media = float(input('Velocidade média (km/h): '))\n",
        "  return tempo, velo_media "
      ],
      "execution_count": null,
      "outputs": []
    },
    {
      "cell_type": "code",
      "metadata": {
        "id": "joVbAFOcyFLi"
      },
      "source": [
        "def calc_distancia (tempo, velo_media):\n",
        "  distancia = tempo * velo_media\n",
        "  return distancia"
      ],
      "execution_count": null,
      "outputs": []
    },
    {
      "cell_type": "code",
      "metadata": {
        "id": "tI_UkDfiybYh"
      },
      "source": [
        "def calc_litros (distancia):\n",
        "  litros = distancia/12\n",
        "  return litros"
      ],
      "execution_count": null,
      "outputs": []
    },
    {
      "cell_type": "code",
      "metadata": {
        "id": "YovmzivBypr4"
      },
      "source": [
        "def impressao (tempo, velo_media, distancia, litros):\n",
        "  \n",
        "  print('Tempo gasto: ', tempo)\n",
        "  print('Velocidade média: ', velo_media)\n",
        "  print('Distância: ', distancia)\n",
        "  print('Litros gastos: ', litros)"
      ],
      "execution_count": null,
      "outputs": []
    },
    {
      "cell_type": "code",
      "metadata": {
        "id": "nER1sSWu16co",
        "outputId": "36e54238-c8bb-47b3-91f8-393ce7ca0fe2",
        "colab": {
          "base_uri": "https://localhost:8080/",
          "height": 118
        }
      },
      "source": [
        "t, v = leitura()\n",
        "d = calc_distancia(t,v)\n",
        "l = calc_litros(d)\n",
        "impressao(t,v,d,l)"
      ],
      "execution_count": null,
      "outputs": [
        {
          "output_type": "stream",
          "text": [
            "Tempo gasto (min): 100\n",
            "Velocidade média (km/h): 60\n",
            "Tempo gasto:  1.6666666666666667\n",
            "Velocidade média:  60.0\n",
            "Distância:  100.0\n",
            "Litros gastos:  8.333333333333334\n"
          ],
          "name": "stdout"
        }
      ]
    }
  ]
}